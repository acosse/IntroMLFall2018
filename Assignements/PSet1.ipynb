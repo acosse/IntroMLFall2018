{
 "cells": [
  {
   "cell_type": "markdown",
   "metadata": {},
   "source": [
    "# Problem Set 1"
   ]
  },
  {
   "cell_type": "markdown",
   "metadata": {},
   "source": [
    "**Due: October 5th, 12am**\n",
    "\n",
    "In this first Problem Set, we will review some of the theoretical concepts from statistics, \n",
    "linear regression, and linear classification that we studied in class. You will then be asked \n",
    "to use your knowledge on regression models, together with tools from scikit-learn and pandas to do prediction on financial time series. \n",
    "\n",
    " - The weight of each exercice is indicated under brackets as \"[x] points\". \n",
    " \n",
    " - if you cannot finish an exercice, don't hesitate to come to office hours after class with possible questions. Also start by finishing all the exercices which look easier to you.\n",
    " \n",
    " \n",
    " **The assignment will be graded on [30] points (16 points theory, 14 points programming)**"
   ]
  },
  {
   "cell_type": "markdown",
   "metadata": {},
   "source": [
    "## 1. Statistics "
   ]
  },
  {
   "cell_type": "markdown",
   "metadata": {},
   "source": [
    "**Total value of this part is [6] points**"
   ]
  },
  {
   "cell_type": "markdown",
   "metadata": {},
   "source": [
    "1\\.1 [3]points (Source: Murphy) We want to use the Bayesian framework to infer the rate of a Bernoulli distribution. The Bernoulli distribution is used to model the outcome of a coin toss experiment. In particular, for this experiment, we observe $N_1$ heads and $N_0$ tails\n",
    "\n",
    " - Show that when using as prior a _Beta distribution_, with parameters $\\alpha,\\beta$, the MAP in this case is given by \n",
    "    \n",
    "    $$\\hat{\\theta} = \\frac{N_1+\\alpha-1}{N+\\alpha+\\beta-2}$$\n",
    "        \n",
    "        \n",
    " - We now decide to change the prior and use the following distribution\n",
    " \n",
    " $$p(\\theta) = \\left\\{\\begin{array}{ll}\n",
    " 0.5 & \\text{if }\\theta = 0.5\\\\0.4 & \\text{if }\\theta = 0.4\\\\0 &\\text{otherwise}\\end{array}\\right.$$        \n",
    "  Derive the MAP for this second prior as a function of $N_1$ and $N$.\n",
    "    \n",
    "    \n",
    "      \n",
    "1\\.2\\. [3]points (Source: Murphy) We get $n$ samples $x_1,x_2,\\ldots, x_n$ from a Gaussian random variable with known variance $\\sigma^2$ but unknown mean $\\mu$. To guess the value for $\\mu$, we also decide to assume a Gaussian distribution for our prior, $\\mu\\sim \\mathcal{N}(m,s^2)$ with fixed mean $m$ and variance $s^2$. (The only unknown is $\\mu$)\n",
    "\n",
    "\n",
    " - Calculate the expression for the MAP estimate $\\hat{\\mu}_{MAP}$. You can give the result without proof or, alternatively, with a lot more work, you can compute derivatives of the log posterior, set them to zero and solve.\n",
    " - Show that as the number of samples increases, the MAP estimate converges to the Maximum likelihood estimate.\n"
   ]
  },
  {
   "cell_type": "markdown",
   "metadata": {},
   "source": [
    "## 2. Linear Regression and classification"
   ]
  },
  {
   "cell_type": "markdown",
   "metadata": {},
   "source": [
    "**Total value of this part is [10] points**"
   ]
  },
  {
   "cell_type": "markdown",
   "metadata": {},
   "source": [
    "2\\.1\\. [3]points **Mitigating false predictions.** Assume you want to learn a regression model, $\\beta_0 + \\langle \\bf \\beta, \\bf x\\rangle$ from some patterns $\\left\\{\\bf x_{\\mu}, t_\\mu\\right\\}_{\\mu}$. Among the $N$ patterns that you have at your disposal, some of them have been corrupted by the noisy measurement device more than other. To deal with the difference in the quality of the patterns, you decide to consider a weighted loss\n",
    "    $$\\ell(\\beta) = \\frac{1}{2}\\sum_{\\mu=1}^N w_\\mu\\left\\{t_\\mu - \\langle \\boldsymbol \\beta, \\boldsymbol x_\\mu\\rangle\\right\\}^2$$\n",
    "    which associates larger weights $w_n$ to patterns which have been acquired through higher quality measurements. Give another interpretation of the loss function above in terms of replicated patterns.\n",
    "\n",
    "\n",
    "2\\.2\\. [4]points **Regression with multiple outputs.**(source: HTF) We want to do regression on a set of multidimensional patterns $(\\boldsymbol x_{\\mu}, \\boldsymbol y_{\\mu})$. I.e each input $\\bf x_{i} \\in \\mathbb{R}^{p+1\\times 1}$ is used to predict $K$ outputs $y_{i,k}\\in \\mathbb{R}$. In particular, we want to use $K$ different regression models $\\boldsymbol \\beta_k \\in \\mathbb{R}^{p+1\\times 1}$ for each of these outputs $\\boldsymbol y_{i,k}$. \n",
    "    The measurements are corrupted by a noise $\\varepsilon$, so that they read as\n",
    "    $$Y_{i,k} = \\langle \\boldsymbol \\beta_k, \\boldsymbol x_i\\rangle + \\varepsilon_k$$\n",
    "    We further let $\\boldsymbol \\Sigma = \\mathbb{E}\\boldsymbol \\varepsilon\\boldsymbol \\varepsilon^T$ to denote the covariance of the noise $\\varepsilon = (\\varepsilon_1,\\ldots, \\varepsilon_K)$.\n",
    "    \n",
    "Now let us group the $K$ labels generated from input $\\boldsymbol x_i$ in the vector $\\boldsymbol y_i = (y_{i,1},\\ldots, y_{i,K})^T \\in \\mathbb{R}^{K\\times 1}$, and group the regression coefficients in the vector $f(\\boldsymbol x_i)\\in \\mathbb{R}^{K\\times 1}$, as \n",
    "    $$f(\\boldsymbol x_i) = \\left[\\begin{array}{c}\n",
    "        \\langle \\boldsymbol \\beta_1,\\boldsymbol x_i\\rangle\\\\\n",
    "        \\vdots\\\\\n",
    "        \\langle \\boldsymbol \\beta_K,\\boldsymbol x_i\\rangle\n",
    "        \\end{array}\\right]$$\n",
    "        \n",
    " - Show that the solution to the multivariate regression problem\n",
    "    $$\\text{RSS}(\\boldsymbol B,\\boldsymbol \\Sigma) = \\sum_{i=1}^N (\\boldsymbol y_i - f(\\boldsymbol x_i) )^T\\boldsymbol \\Sigma^{-1} (\\boldsymbol y_i - f(\\boldsymbol x_i) )$$\n",
    "    \n",
    "    is given by $\\hat{\\boldsymbol B} = (\\boldsymbol X^T\\boldsymbol X)^{-1}\\boldsymbol X^T\\boldsymbol Y$ where \n",
    "    \n",
    "    $$\\hat{\\boldsymbol B} = \\left[\\hat{\\boldsymbol \\beta}_1, ..., \\hat{\\boldsymbol \\beta}_K \\right],\\boldsymbol X = \\left[\\begin{array}{c}\n",
    "    \\boldsymbol x_1^T\\\\\n",
    "    \\vdots\\\\\n",
    "    \\boldsymbol x_N^T\n",
    "    \\end{array}\\right],\\boldsymbol Y = \\left[\\begin{array}{c}\n",
    "    \\boldsymbol y_1^T\\\\\n",
    "    \\vdots\\\\\n",
    "    \\boldsymbol y^T_N\n",
    "    \\end{array}\\right]$$\n",
    "        \n",
    " -  How does that change if we replace $\\boldsymbol \\Sigma$ with a different covariance matrix $\\boldsymbol \\Sigma_i$ for each pattern $i$?\n",
    "\n",
    "2\\.3\\. [3]points(source: HTF) The simple (RSS) linear regression model is known to be the best unbiased linear estimator. However, it is sometimes possible to improve the prediction error by lowering the variance and increasing the bias. When some of the variables are correlated for example, a good idea could be to use LASSO regularization. In this case, the estimate $\\hat{\\boldsymbol \\beta}$ is given by the solution of the following optimization program\n",
    "\n",
    "\\begin{align*}\\hat{\\boldsymbol \\beta}^{\\text{lasso}} = arg\\min_{\\boldsymbol \\beta}   &\\sum_{i=1}^{N} \\left(y_i - \\beta_0 - \\sum_{j=1}^px_{ij}\\beta_{j}\\right)^2\\\\\n",
    "\\text{subject to}& \\sum_{j=1}^p |\\beta_j|\\leq t.\n",
    "\\end{align*}\n",
    "\n",
    "\n",
    "We fix the threshold $t$ and we let $\\hat{\\boldsymbol \\beta}_{\\text{lasso}}$ denote the estimate you would obtain for the original set of patterns $(\\boldsymbol x_i,y_i)$, $i=1,\\ldots, N$ with the $j^{th}$ value in $\\hat{\\boldsymbol \\beta}_{\\text{lasso}}$ given by $(\\hat{\\boldsymbol \\beta}_{\\text{lasso}}) = a$. Suppose that you augment your set of features with one additional copy of $\\boldsymbol x_{\\cdot,j}$ (i.e the $j^{th}$ component of $x$) and let us use $(\\hat{\\boldsymbol \\beta}^*_{\\text{lasso}})$ to denote the new estimate. Charaterize the effect of this change by comparing the set of solutions for $(\\hat{\\boldsymbol \\beta}_{\\text{lasso}})_j$ and $(\\hat{\\boldsymbol \\beta}^*_{\\text{lasso}})_j$\n"
   ]
  },
  {
   "cell_type": "markdown",
   "metadata": {},
   "source": [
    "## 3. Programming"
   ]
  },
  {
   "cell_type": "markdown",
   "metadata": {},
   "source": [
    "**Total value of this part is [14] points**"
   ]
  },
  {
   "cell_type": "markdown",
   "metadata": {},
   "source": [
    "In this part, you will be asked to implement the simple linear regression and classification models we studied in class on some practical datasets."
   ]
  },
  {
   "cell_type": "markdown",
   "metadata": {},
   "source": [
    "### 3.1 Regression"
   ]
  },
  {
   "cell_type": "markdown",
   "metadata": {},
   "source": [
    "**3.1.1 predicting Google future stock value** [6] points"
   ]
  },
  {
   "cell_type": "markdown",
   "metadata": {},
   "source": [
    "1\\. To start, use the following piece of code to download financial data from yahoo finance using. In class, we have predicted housing prices. We will now see whether linear regression can give us some insights on future stock values. "
   ]
  },
  {
   "cell_type": "code",
   "execution_count": 1,
   "metadata": {},
   "outputs": [
    {
     "name": "stdout",
     "output_type": "stream",
     "text": [
      "[*********************100%***********************]  1 of 1 downloaded\n",
      "DatetimeIndex(['2017-01-03', '2017-01-04', '2017-01-05', '2017-01-06',\n",
      "               '2017-01-09', '2017-01-10', '2017-01-11', '2017-01-12',\n",
      "               '2017-01-13', '2017-01-16', '2017-01-17', '2017-01-18',\n",
      "               '2017-01-19', '2017-01-20', '2017-01-23', '2017-01-24',\n",
      "               '2017-01-25', '2017-01-26', '2017-01-27', '2017-01-30',\n",
      "               '2017-01-31', '2017-02-01', '2017-02-02', '2017-02-03',\n",
      "               '2017-02-06', '2017-02-07', '2017-02-08', '2017-02-09',\n",
      "               '2017-02-10', '2017-02-13', '2017-02-14', '2017-02-15',\n",
      "               '2017-02-16', '2017-02-17', '2017-02-20', '2017-02-21',\n",
      "               '2017-02-22', '2017-02-23', '2017-02-24', '2017-02-27',\n",
      "               '2017-02-28', '2017-03-01', '2017-03-02', '2017-03-03',\n",
      "               '2017-03-06', '2017-03-07', '2017-03-08', '2017-03-09',\n",
      "               '2017-03-10', '2017-03-13', '2017-03-14', '2017-03-15',\n",
      "               '2017-03-16', '2017-03-17', '2017-03-20', '2017-03-21',\n",
      "               '2017-03-22', '2017-03-23', '2017-03-24', '2017-03-27',\n",
      "               '2017-03-28', '2017-03-29', '2017-03-30', '2017-03-31',\n",
      "               '2017-04-03', '2017-04-04', '2017-04-05', '2017-04-06',\n",
      "               '2017-04-07', '2017-04-10', '2017-04-11', '2017-04-12',\n",
      "               '2017-04-13', '2017-04-14', '2017-04-17', '2017-04-18',\n",
      "               '2017-04-19', '2017-04-20', '2017-04-21', '2017-04-24',\n",
      "               '2017-04-25', '2017-04-26', '2017-04-27', '2017-04-28'],\n",
      "              dtype='datetime64[ns]', freq='B')\n",
      "<built-in method transpose of numpy.ndarray object at 0x1123286c0>\n",
      "[808.01001  807.77002  813.02002  825.210022 827.179993 826.01001\n",
      " 829.859985 829.530029 830.940002 830.940002 827.460022 829.02002\n",
      " 824.369995 828.169983 844.429993 849.530029 858.450012 856.97998\n",
      " 845.030029 823.830017 820.190002 815.23999  818.26001  820.130005\n",
      " 821.619995 829.22998  829.880005 830.059998 834.849976 838.960022\n",
      " 840.030029 837.320007 842.169983 846.549988 846.549988 849.27002\n",
      " 851.359985 851.       847.809998 849.669983 844.929993 856.75\n",
      " 849.849976 849.080017 847.27002  851.150024 853.640015 857.840027\n",
      " 861.409973 864.580017 865.909973 868.390015 870.       872.369995\n",
      " 867.909973 850.140015 849.799988 839.650024 835.140015 838.51001 ]\n",
      "(60,)\n",
      "(60,)\n"
     ]
    },
    {
     "data": {
      "image/png": "[encoded data removed]",
      "text/plain": [
       "<matplotlib.figure.Figure at 0x1a155e95d0>"
      ]
     },
     "metadata": {},
     "output_type": "display_data"
    }
   ],
   "source": [
    "import pandas as pd\n",
    "import numpy as np\n",
    "pd.core.common.is_list_like = pd.api.types.is_list_like\n",
    "\n",
    "from pandas_datareader import data as pdr\n",
    "\n",
    "import matplotlib.pyplot as plt\n",
    "\n",
    "import fix_yahoo_finance as yf\n",
    "yf.pdr_override() # <== that's all it takes :-)\n",
    "\n",
    "# download dataframe\n",
    "data1 = pdr.get_data_yahoo(\"GOOGL\", start=\"2017-01-01\", end=\"2017-04-30\")\n",
    "\n",
    "\n",
    "\n",
    "close = data1['Close']\n",
    "\n",
    "all_weekdays = pd.date_range(start=\"2017-01-01\", end=\"2017-04-30\", freq='B')\n",
    "\n",
    "# How do we align the existing prices in adj_close with our new set of dates?\n",
    "# All we need to do is reindex close using all_weekdays as the new index\n",
    "close = close.reindex(all_weekdays)\n",
    "\n",
    "close = close.fillna(method='ffill')\n",
    "\n",
    "\n",
    "msft = close#.loc['SPY']\n",
    "\n",
    "# Calculate the 20 and 100 days moving averages of the closing prices\n",
    "short_rolling_msft = msft.rolling(window=20).mean()\n",
    "long_rolling_msft = msft.rolling(window=100).mean()\n",
    "\n",
    "msft = msft.dropna()\n",
    "#msft_norm = (msft - msft.mean()) / (msft.max() - msft.min())\n",
    "\n",
    "\n",
    "tmp = msft.index\n",
    "numDays = tmp.shape[0]\n",
    "\n",
    "days = np.arange(1,numDays+1)\n",
    "\n",
    "# normalized prices\n",
    "print(msft.index)\n",
    "\n",
    "\n",
    "tmp1 = 60\n",
    "\n",
    "X_train = days[0:tmp1]\n",
    "X_test = days[tmp1:]\n",
    "\n",
    "y_train = msft[0:tmp1]\n",
    "y_test = msft[tmp1:]\n",
    "\n",
    "# Applying the regression model\n",
    "\n",
    "from sklearn.linear_model import LinearRegression\n",
    "\n",
    "print(X_train.transpose)\n",
    "print(y_train.values)\n",
    "\n",
    "print(X_train.shape)\n",
    "tmp = y_train.values\n",
    "print(tmp.shape)\n",
    "\n",
    "lr = LinearRegression().fit(X_train.reshape(-1,1),tmp.reshape(-1,1))\n",
    "\n",
    "pred = lr.predict(X_test.reshape(-1,1))\n",
    "\n",
    "\n",
    "# #training a linear prediction model\n",
    "\n",
    "\n",
    "#fig, axes = plt.subplots(nrows=1, ncols=2)\n",
    "fig, axes = plt.subplots(nrows=1, ncols=2)\n",
    "plt.subplot(1, 2,1)\n",
    "\n",
    "\n",
    "#fig, ax = plt.subplots(figsize=(8,5))\n",
    "plt.plot(days, msft, label='GOOGL')\n",
    "#axes[0,0].plot(X_train.reshape(-1,1), tmp.reshape(-1,1), label='training')\n",
    "plt.xlabel('Date')\n",
    "plt.ylabel('Adjusted closing price ($)')\n",
    "plt.legend()\n",
    "plt.title('Google stock value')\n",
    "\n",
    "plt.subplot(1, 2,2)\n",
    "plt.plot(np.concatenate((X_train, X_test),axis = 0), np.concatenate((tmp.reshape(-1,1),pred),axis=0), 'green',label='test')\n",
    "plt.xlabel('Date')\n",
    "plt.ylabel('Adjusted closing price ($)')\n",
    "plt.legend()\n",
    "plt.title('Prediction')\n",
    "plt.ylim((np.amin(msft),np.amax(msft)))\n",
    "\n",
    "fig.tight_layout() \n",
    "\n",
    "plt.show()\n",
    "\n"
   ]
  },
  {
   "cell_type": "markdown",
   "metadata": {},
   "source": [
    "1\\. As you can see the simplest linear regression model does not achieve impressive predictions. Using the $\\texttt{Pipeline}$ and $\\texttt{Polynomial feature}$ methods from $\\texttt{scikit-learn}$, try to get a better prediction with degree two polynomial features."
   ]
  },
  {
   "cell_type": "code",
   "execution_count": null,
   "metadata": {
    "collapsed": true
   },
   "outputs": [],
   "source": [
    "from sklearn.pipeline import Pipeline\n",
    "from sklearn.preprocessing import PolynomialFeatures\n",
    "\n",
    "## put your code here\n",
    "\n"
   ]
  },
  {
   "cell_type": "markdown",
   "metadata": {},
   "source": [
    "**3.1.2. Would you have predicted the 2008 crisis?** [3] points. Still using the code above, download the S&P 500 between 2007 and 2009 (use the index ^GSPC). Build a regression model until approx. January 1 2008. Then predict the end of the year 2008. "
   ]
  },
  {
   "cell_type": "code",
   "execution_count": null,
   "metadata": {
    "collapsed": true
   },
   "outputs": [],
   "source": [
    "# put your code here\n",
    "\n"
   ]
  },
  {
   "cell_type": "markdown",
   "metadata": {},
   "source": [
    "Measure your error with the MSE"
   ]
  },
  {
   "cell_type": "markdown",
   "metadata": {
    "collapsed": true
   },
   "source": [
    "### 3.2 Classification"
   ]
  },
  {
   "cell_type": "markdown",
   "metadata": {},
   "source": [
    "**3.2.1 Classifying flowers** [5] points"
   ]
  },
  {
   "cell_type": "markdown",
   "metadata": {},
   "source": [
    "In this section we will build and train a simple logistic regression classifier and use it to \n",
    "distriminate between three classes using a majority vote\n",
    "\n",
    "Start by downloading the dataset (for example) from Kaggle : https://www.kaggle.com/aceccon/2-iris-dataset-basic-classification-algorithms/data, then store it into a pandas data frame (use the .read_csv method)\n",
    "\n",
    "or import it directly from the scikit-learn dataset module using the lines below"
   ]
  },
  {
   "cell_type": "code",
   "execution_count": null,
   "metadata": {
    "collapsed": true
   },
   "outputs": [],
   "source": [
    "import numpy as np # linear algebra\n",
    "import pandas as pd # data processing, CSV file I/O (e.g. pd.read_csv)\n",
    "import matplotlib.pyplot as plt\n",
    "#%pylab inline\n",
    "\n",
    "#from subprocess import check_output\n",
    "#print(check_output([\"ls\", \"../input\"]).decode(\"utf8\"))\n",
    "\n",
    "from sklearn import datasets\n",
    "from sklearn.decomposition import PCA\n",
    "\n",
    "# IRIS\n",
    "iris = datasets.load_iris()"
   ]
  },
  {
   "cell_type": "markdown",
   "metadata": {},
   "source": [
    "Only keep the first two features from this dataset and store the result into the array X"
   ]
  },
  {
   "cell_type": "code",
   "execution_count": null,
   "metadata": {
    "collapsed": true
   },
   "outputs": [],
   "source": [
    "# put your code here\n"
   ]
  },
  {
   "cell_type": "markdown",
   "metadata": {},
   "source": [
    "Plot the corresponding data using the lines below"
   ]
  },
  {
   "cell_type": "code",
   "execution_count": null,
   "metadata": {
    "collapsed": true
   },
   "outputs": [],
   "source": [
    "x_min, x_max = X[:, 0].min() - .5, X[:, 0].max() + .5\n",
    "y_min, y_max = X[:, 1].min() - .5, X[:, 1].max() + .5\n",
    "\n",
    "plt.figure(2, figsize=(8, 6))\n",
    "plt.clf()\n",
    "\n",
    "# Plot the training points\n",
    "plt.scatter(X[:, 0], X[:, 1], c=y, cmap=plt.cm.Set1,\n",
    "            edgecolor='k')\n",
    "plt.xlabel('Sepal length')\n",
    "plt.ylabel('Sepal width')\n",
    "\n",
    "plt.xlim(x_min, x_max)\n",
    "plt.ylim(y_min, y_max)\n",
    "plt.xticks(())\n",
    "plt.yticks(())"
   ]
  },
  {
   "cell_type": "markdown",
   "metadata": {},
   "source": [
    "How many classes are there ? We now want to learn a logistic regression classifier for \n",
    "each of the class. As we saw, logistic regression outputs a value between 0 and 1 representing the probability that a point belong to one of two classes. There are two \"easy\" to extend the logistic regression classifier to multiple classes. briefly describe those approaches below"
   ]
  },
  {
   "cell_type": "markdown",
   "metadata": {},
   "source": [
    "Put your answers here\n",
    "\n",
    " - \n",
    "    \n",
    " - "
   ]
  },
  {
   "cell_type": "markdown",
   "metadata": {},
   "source": [
    "We will use the one-vs-one with a majority vote. Start by splitting the set of patterns between a training and a test part"
   ]
  },
  {
   "cell_type": "code",
   "execution_count": null,
   "metadata": {
    "collapsed": true
   },
   "outputs": [],
   "source": [
    "from sklearn.model_selection import train_test_split\n",
    "\n",
    "X_train, X_test, y_train, y_test = train_test_split(X, y, test_size=0.3, random_state=0) "
   ]
  },
  {
   "cell_type": "markdown",
   "metadata": {},
   "source": [
    "Then loop over the classes in the training set to learn logistic classifiers for each pair of classes. You can use the $\\texttt{linear_model.LogisticRegression}$) module from scikit-learn but you must loop over the classes. I.e do not use the multiclass option of the scikit-learn implementation."
   ]
  },
  {
   "cell_type": "code",
   "execution_count": null,
   "metadata": {
    "collapsed": true
   },
   "outputs": [],
   "source": [
    "# put your code here"
   ]
  },
  {
   "cell_type": "markdown",
   "metadata": {},
   "source": [
    "Measure the quality of your classification by estimating the ratio of misclassified instances to the total instances in \n",
    "the test set"
   ]
  }
 ],
 "metadata": {
  "kernelspec": {
   "display_name": "Python 2",
   "language": "python",
   "name": "python2"
  },
  "language_info": {
   "codemirror_mode": {
    "name": "ipython",
    "version": 2
   },
   "file_extension": ".py",
   "mimetype": "text/x-python",
   "name": "python",
   "nbconvert_exporter": "python",
   "pygments_lexer": "ipython2",
   "version": "2.7.13"
  }
 },
 "nbformat": 4,
 "nbformat_minor": 2
}
